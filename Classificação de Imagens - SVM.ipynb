{
 "cells": [
  {
   "cell_type": "code",
   "execution_count": 25,
   "metadata": {},
   "outputs": [],
   "source": [
    "from __future__ import division\n",
    "from sklearn.datasets import load_digits"
   ]
  },
  {
   "cell_type": "code",
   "execution_count": 26,
   "metadata": {},
   "outputs": [],
   "source": [
    "x, y = load_digits(n_class=10, return_X_y=True)"
   ]
  },
  {
   "cell_type": "code",
   "execution_count": 27,
   "metadata": {},
   "outputs": [
    {
     "data": {
      "text/plain": [
       "((1797L, 64L), (1797L,))"
      ]
     },
     "execution_count": 27,
     "metadata": {},
     "output_type": "execute_result"
    }
   ],
   "source": [
    "x.shape, y.shape"
   ]
  },
  {
   "cell_type": "markdown",
   "metadata": {},
   "source": [
    "<h2>Normalização</h2>"
   ]
  },
  {
   "cell_type": "code",
   "execution_count": 4,
   "metadata": {},
   "outputs": [],
   "source": [
    "x = x / 255"
   ]
  },
  {
   "cell_type": "markdown",
   "metadata": {},
   "source": [
    "<h2>Validação Cruzada</h2>"
   ]
  },
  {
   "cell_type": "code",
   "execution_count": 18,
   "metadata": {},
   "outputs": [],
   "source": [
    "from sklearn.model_selection import KFold\n",
    "from sklearn.metrics import accuracy_score, recall_score, precision_score\n",
    "from sklearn.svm import SVC\n",
    "import numpy as np"
   ]
  },
  {
   "cell_type": "code",
   "execution_count": 14,
   "metadata": {},
   "outputs": [],
   "source": [
    "kf = KFold(n_splits=10, random_state=0)"
   ]
  },
  {
   "cell_type": "code",
   "execution_count": 17,
   "metadata": {},
   "outputs": [],
   "source": [
    "acc_list = []\n",
    "recall_list = []\n",
    "precision_list = []\n",
    "\n",
    "for train_index, test_index in kf.split(x):\n",
    "    # Separando os dados por fold\n",
    "    train_data, test_data = x[train_index], x[test_index]\n",
    "    train_labels, test_labels = y[train_index], y[test_index]\n",
    "    \n",
    "    svm = SVC(C=10.0, gamma=1.)\n",
    "    svm.fit(train_data, train_labels)\n",
    "    \n",
    "    y_pred = svm.predict(test_data)\n",
    "    acc_list.append(accuracy_score(test_labels, y_pred))\n",
    "    recall_list.append(recall_score(test_labels, y_pred, average='micro'))\n",
    "    precision_list.append(precision_score(test_labels, y_pred, average='micro'))"
   ]
  },
  {
   "cell_type": "code",
   "execution_count": 29,
   "metadata": {},
   "outputs": [],
   "source": [
    "for i in range(x.shape[1]):\n",
    "    \n",
    "    valor_min = np.min(x[:,i])\n",
    "    valor_max = np.max(x[:,i])\n",
    "    \n",
    "    x[:,i] = (x[:,i] - valor_min) / (valor_max - valor_min + 1e-15)"
   ]
  },
  {
   "cell_type": "code",
   "execution_count": 30,
   "metadata": {},
   "outputs": [
    {
     "data": {
      "text/plain": [
       "array([[0.    , 0.    , 0.3125, ..., 0.    , 0.    , 0.    ],\n",
       "       [0.    , 0.    , 0.    , ..., 0.625 , 0.    , 0.    ],\n",
       "       [0.    , 0.    , 0.    , ..., 1.    , 0.5625, 0.    ],\n",
       "       ...,\n",
       "       [0.    , 0.    , 0.0625, ..., 0.375 , 0.    , 0.    ],\n",
       "       [0.    , 0.    , 0.125 , ..., 0.75  , 0.    , 0.    ],\n",
       "       [0.    , 0.    , 0.625 , ..., 0.75  , 0.0625, 0.    ]])"
      ]
     },
     "execution_count": 30,
     "metadata": {},
     "output_type": "execute_result"
    }
   ],
   "source": [
    "x"
   ]
  }
 ],
 "metadata": {
  "kernelspec": {
   "display_name": "Python 2",
   "language": "python",
   "name": "python2"
  },
  "language_info": {
   "codemirror_mode": {
    "name": "ipython",
    "version": 2
   },
   "file_extension": ".py",
   "mimetype": "text/x-python",
   "name": "python",
   "nbconvert_exporter": "python",
   "pygments_lexer": "ipython2",
   "version": "2.7.15"
  }
 },
 "nbformat": 4,
 "nbformat_minor": 2
}
